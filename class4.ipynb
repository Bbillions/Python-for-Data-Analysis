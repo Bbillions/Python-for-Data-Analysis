{
 "cells": [
  {
   "cell_type": "markdown",
   "metadata": {},
   "source": [
    "#### Statistical analysis with Scipy, Statsmodel & Data Modelling with Sklearn\n",
    "\n",
    "1. Correlation\n",
    "2. Chi Square\n",
    "3. Analysis of variance\n",
    "4. Kruskal H walis"
   ]
  },
  {
   "cell_type": "code",
   "execution_count": 1,
   "metadata": {},
   "outputs": [],
   "source": [
    "import pandas as pd\n",
    "import numpy as np\n",
    "import matplotlib.pyplot as plt\n",
    "import seaborn as sns\n",
    "import plotly.express as px"
   ]
  },
  {
   "cell_type": "code",
   "execution_count": 2,
   "metadata": {},
   "outputs": [],
   "source": [
    "HR_data = pd.read_csv('cleaned_data.csv')"
   ]
  },
  {
   "cell_type": "markdown",
   "metadata": {},
   "source": [
    "1. Correlation"
   ]
  },
  {
   "cell_type": "code",
   "execution_count": 3,
   "metadata": {},
   "outputs": [
    {
     "data": {
      "text/html": [
       "<div>\n",
       "<style scoped>\n",
       "    .dataframe tbody tr th:only-of-type {\n",
       "        vertical-align: middle;\n",
       "    }\n",
       "\n",
       "    .dataframe tbody tr th {\n",
       "        vertical-align: top;\n",
       "    }\n",
       "\n",
       "    .dataframe thead th {\n",
       "        text-align: right;\n",
       "    }\n",
       "</style>\n",
       "<table border=\"1\" class=\"dataframe\">\n",
       "  <thead>\n",
       "    <tr style=\"text-align: right;\">\n",
       "      <th></th>\n",
       "      <th>Unnamed: 0</th>\n",
       "      <th>BHK</th>\n",
       "      <th>Rent</th>\n",
       "      <th>Size</th>\n",
       "      <th>Bathroom</th>\n",
       "      <th>no_floor</th>\n",
       "    </tr>\n",
       "  </thead>\n",
       "  <tbody>\n",
       "    <tr>\n",
       "      <th>count</th>\n",
       "      <td>4742.000000</td>\n",
       "      <td>4742.000000</td>\n",
       "      <td>4.742000e+03</td>\n",
       "      <td>4742.000000</td>\n",
       "      <td>4742.000000</td>\n",
       "      <td>4742.000000</td>\n",
       "    </tr>\n",
       "    <tr>\n",
       "      <th>mean</th>\n",
       "      <td>2370.500000</td>\n",
       "      <td>2.083720</td>\n",
       "      <td>3.500863e+04</td>\n",
       "      <td>967.669970</td>\n",
       "      <td>1.966048</td>\n",
       "      <td>6.973429</td>\n",
       "    </tr>\n",
       "    <tr>\n",
       "      <th>std</th>\n",
       "      <td>1369.041818</td>\n",
       "      <td>0.832245</td>\n",
       "      <td>7.813758e+04</td>\n",
       "      <td>634.355762</td>\n",
       "      <td>0.884555</td>\n",
       "      <td>9.469727</td>\n",
       "    </tr>\n",
       "    <tr>\n",
       "      <th>min</th>\n",
       "      <td>0.000000</td>\n",
       "      <td>1.000000</td>\n",
       "      <td>1.200000e+03</td>\n",
       "      <td>10.000000</td>\n",
       "      <td>1.000000</td>\n",
       "      <td>1.000000</td>\n",
       "    </tr>\n",
       "    <tr>\n",
       "      <th>25%</th>\n",
       "      <td>1185.250000</td>\n",
       "      <td>2.000000</td>\n",
       "      <td>1.000000e+04</td>\n",
       "      <td>550.000000</td>\n",
       "      <td>1.000000</td>\n",
       "      <td>2.000000</td>\n",
       "    </tr>\n",
       "    <tr>\n",
       "      <th>50%</th>\n",
       "      <td>2370.500000</td>\n",
       "      <td>2.000000</td>\n",
       "      <td>1.600000e+04</td>\n",
       "      <td>850.000000</td>\n",
       "      <td>2.000000</td>\n",
       "      <td>4.000000</td>\n",
       "    </tr>\n",
       "    <tr>\n",
       "      <th>75%</th>\n",
       "      <td>3555.750000</td>\n",
       "      <td>3.000000</td>\n",
       "      <td>3.300000e+04</td>\n",
       "      <td>1200.000000</td>\n",
       "      <td>2.000000</td>\n",
       "      <td>6.000000</td>\n",
       "    </tr>\n",
       "    <tr>\n",
       "      <th>max</th>\n",
       "      <td>4741.000000</td>\n",
       "      <td>6.000000</td>\n",
       "      <td>3.500000e+06</td>\n",
       "      <td>8000.000000</td>\n",
       "      <td>10.000000</td>\n",
       "      <td>89.000000</td>\n",
       "    </tr>\n",
       "  </tbody>\n",
       "</table>\n",
       "</div>"
      ],
      "text/plain": [
       "        Unnamed: 0          BHK          Rent         Size     Bathroom  \\\n",
       "count  4742.000000  4742.000000  4.742000e+03  4742.000000  4742.000000   \n",
       "mean   2370.500000     2.083720  3.500863e+04   967.669970     1.966048   \n",
       "std    1369.041818     0.832245  7.813758e+04   634.355762     0.884555   \n",
       "min       0.000000     1.000000  1.200000e+03    10.000000     1.000000   \n",
       "25%    1185.250000     2.000000  1.000000e+04   550.000000     1.000000   \n",
       "50%    2370.500000     2.000000  1.600000e+04   850.000000     2.000000   \n",
       "75%    3555.750000     3.000000  3.300000e+04  1200.000000     2.000000   \n",
       "max    4741.000000     6.000000  3.500000e+06  8000.000000    10.000000   \n",
       "\n",
       "          no_floor  \n",
       "count  4742.000000  \n",
       "mean      6.973429  \n",
       "std       9.469727  \n",
       "min       1.000000  \n",
       "25%       2.000000  \n",
       "50%       4.000000  \n",
       "75%       6.000000  \n",
       "max      89.000000  "
      ]
     },
     "execution_count": 3,
     "metadata": {},
     "output_type": "execute_result"
    }
   ],
   "source": [
    "HR_data.describe()"
   ]
  },
  {
   "cell_type": "code",
   "execution_count": 4,
   "metadata": {},
   "outputs": [
    {
     "data": {
      "text/plain": [
       "Index(['Unnamed: 0', 'Posted On', 'BHK', 'Rent', 'Size', 'Area Type',\n",
       "       'Area Locality', 'City', 'Furnishing Status', 'Tenant Preferred',\n",
       "       'Bathroom', 'Point of Contact', 'house_floor', 'no_floor'],\n",
       "      dtype='object')"
      ]
     },
     "execution_count": 4,
     "metadata": {},
     "output_type": "execute_result"
    }
   ],
   "source": [
    "HR_data.columns"
   ]
  },
  {
   "cell_type": "markdown",
   "metadata": {},
   "source": [
    "Correlation checks how two values are related to one another and how they affect each other.\n",
    "\n",
    "We are checking for the correlation how each of the factors affecting each other, in this case we are using BHK(the number of bathroom, hall and kitchen in the house), to check with the amount they are renting it out for and also the size of the house.\n",
    "\n",
    "We are using 3 types of correlation which is the kendall,pearson and spearman"
   ]
  },
  {
   "cell_type": "code",
   "execution_count": 5,
   "metadata": {},
   "outputs": [
    {
     "data": {
      "text/html": [
       "<div>\n",
       "<style scoped>\n",
       "    .dataframe tbody tr th:only-of-type {\n",
       "        vertical-align: middle;\n",
       "    }\n",
       "\n",
       "    .dataframe tbody tr th {\n",
       "        vertical-align: top;\n",
       "    }\n",
       "\n",
       "    .dataframe thead th {\n",
       "        text-align: right;\n",
       "    }\n",
       "</style>\n",
       "<table border=\"1\" class=\"dataframe\">\n",
       "  <thead>\n",
       "    <tr style=\"text-align: right;\">\n",
       "      <th></th>\n",
       "      <th>BHK</th>\n",
       "      <th>Rent</th>\n",
       "      <th>Size</th>\n",
       "    </tr>\n",
       "  </thead>\n",
       "  <tbody>\n",
       "    <tr>\n",
       "      <th>BHK</th>\n",
       "      <td>1.000000</td>\n",
       "      <td>0.568902</td>\n",
       "      <td>0.755251</td>\n",
       "    </tr>\n",
       "    <tr>\n",
       "      <th>Rent</th>\n",
       "      <td>0.568902</td>\n",
       "      <td>1.000000</td>\n",
       "      <td>0.521888</td>\n",
       "    </tr>\n",
       "    <tr>\n",
       "      <th>Size</th>\n",
       "      <td>0.755251</td>\n",
       "      <td>0.521888</td>\n",
       "      <td>1.000000</td>\n",
       "    </tr>\n",
       "  </tbody>\n",
       "</table>\n",
       "</div>"
      ],
      "text/plain": [
       "           BHK      Rent      Size\n",
       "BHK   1.000000  0.568902  0.755251\n",
       "Rent  0.568902  1.000000  0.521888\n",
       "Size  0.755251  0.521888  1.000000"
      ]
     },
     "execution_count": 5,
     "metadata": {},
     "output_type": "execute_result"
    }
   ],
   "source": [
    "kendell_corr = HR_data[['BHK', 'Rent', 'Size']].corr('kendall')\n",
    "pearson_corr = HR_data[['BHK', 'Rent', 'Size']].corr('pearson')\n",
    "spearman_corr= HR_data[['BHK', 'Rent', 'Size']].corr('spearman')\n",
    "\n",
    "kendell_corr\n",
    "pearson_corr\n",
    "spearman_corr"
   ]
  },
  {
   "cell_type": "code",
   "execution_count": 6,
   "metadata": {},
   "outputs": [
    {
     "data": {
      "text/html": [
       "<div>\n",
       "<style scoped>\n",
       "    .dataframe tbody tr th:only-of-type {\n",
       "        vertical-align: middle;\n",
       "    }\n",
       "\n",
       "    .dataframe tbody tr th {\n",
       "        vertical-align: top;\n",
       "    }\n",
       "\n",
       "    .dataframe thead th {\n",
       "        text-align: right;\n",
       "    }\n",
       "</style>\n",
       "<table border=\"1\" class=\"dataframe\">\n",
       "  <thead>\n",
       "    <tr style=\"text-align: right;\">\n",
       "      <th></th>\n",
       "      <th>BHK</th>\n",
       "      <th>Rent</th>\n",
       "      <th>Size</th>\n",
       "    </tr>\n",
       "  </thead>\n",
       "  <tbody>\n",
       "    <tr>\n",
       "      <th>BHK</th>\n",
       "      <td>1.000000</td>\n",
       "      <td>0.369942</td>\n",
       "      <td>0.716257</td>\n",
       "    </tr>\n",
       "    <tr>\n",
       "      <th>Rent</th>\n",
       "      <td>0.369942</td>\n",
       "      <td>1.000000</td>\n",
       "      <td>0.413581</td>\n",
       "    </tr>\n",
       "    <tr>\n",
       "      <th>Size</th>\n",
       "      <td>0.716257</td>\n",
       "      <td>0.413581</td>\n",
       "      <td>1.000000</td>\n",
       "    </tr>\n",
       "  </tbody>\n",
       "</table>\n",
       "</div>"
      ],
      "text/plain": [
       "           BHK      Rent      Size\n",
       "BHK   1.000000  0.369942  0.716257\n",
       "Rent  0.369942  1.000000  0.413581\n",
       "Size  0.716257  0.413581  1.000000"
      ]
     },
     "execution_count": 6,
     "metadata": {},
     "output_type": "execute_result"
    }
   ],
   "source": [
    "pearson_corr = HR_data[['BHK', 'Rent', 'Size']].corr('pearson')\n",
    "pearson_corr"
   ]
  },
  {
   "cell_type": "markdown",
   "metadata": {},
   "source": [
    "Explanation of the Table that it gave us\n",
    "The values used are all continious variables,.... Read more for it"
   ]
  },
  {
   "cell_type": "code",
   "execution_count": 7,
   "metadata": {},
   "outputs": [
    {
     "data": {
      "text/plain": [
       "Text(0.5, 1.0, 'Spearman Rank Correlation')"
      ]
     },
     "execution_count": 7,
     "metadata": {},
     "output_type": "execute_result"
    },
    {
     "data": {
      "image/png": "[encoded data removed]",
      "text/plain": [
       "<Figure size 2000x700 with 6 Axes>"
      ]
     },
     "metadata": {},
     "output_type": "display_data"
    }
   ],
   "source": [
    "kendell_corr = HR_data[['BHK', 'Rent', 'Size']].corr('kendall')\n",
    "pearson_corr = HR_data[['BHK', 'Rent', 'Size']].corr('pearson')\n",
    "spearman_corr= HR_data[['BHK', 'Rent', 'Size']].corr('spearman')\n",
    "\n",
    "fig, axes = plt.subplots(1, 3, figsize= (20,7))\n",
    "\n",
    "sns.heatmap(data=kendell_corr, ax=axes[0])\n",
    "sns.heatmap(data=pearson_corr, ax=axes[1])\n",
    "sns.heatmap(data=spearman_corr, ax=axes[2])\n",
    "\n",
    "plt.suptitle('Correlation Matrix of Rent, Size and BHK')\n",
    "\n",
    "axes[0].set_title('Kendell_Tau')\n",
    "axes[1].set_title('Pearson Product Moment')\n",
    "axes[1].set_title('Spearman Rank Correlation')\n",
    "\n"
   ]
  },
  {
   "cell_type": "code",
   "execution_count": 8,
   "metadata": {},
   "outputs": [
    {
     "data": {
      "text/plain": [
       "Text(0.5, 1.0, 'Spearman Rank Correlation')"
      ]
     },
     "execution_count": 8,
     "metadata": {},
     "output_type": "execute_result"
    },
    {
     "data": {
      "image/png": "[encoded data removed]",
      "text/plain": [
       "<Figure size 2000x700 with 6 Axes>"
      ]
     },
     "metadata": {},
     "output_type": "display_data"
    }
   ],
   "source": [
    "# Using the annot function brought out the number inn each of the boxes, \n",
    "# you can compare it to the one that does not have annote\n",
    "kendell_corr = HR_data[['BHK', 'Rent', 'Size']].corr('kendall')\n",
    "pearson_corr = HR_data[['BHK', 'Rent', 'Size']].corr('pearson')\n",
    "spearman_corr= HR_data[['BHK', 'Rent', 'Size']].corr('spearman')\n",
    "\n",
    "fig, axes = plt.subplots(1, 3, figsize= (20,7))\n",
    "\n",
    "sns.heatmap(data=kendell_corr, ax=axes[0],annot=True)\n",
    "sns.heatmap(data=pearson_corr, ax=axes[1],annot=True)\n",
    "sns.heatmap(data=spearman_corr, ax=axes[2],annot=True)\n",
    "\n",
    "plt.suptitle('Correlation Matrix of Rent, Size and BHK')\n",
    "\n",
    "axes[0].set_title('Kendell_Tau')\n",
    "axes[1].set_title('Pearson Product Moment')\n",
    "axes[1].set_title('Spearman Rank Correlation')"
   ]
  },
  {
   "cell_type": "code",
   "execution_count": 9,
   "metadata": {},
   "outputs": [
    {
     "data": {
      "text/plain": [
       "Text(0.5, 1.0, 'Spearman Rank Correlation')"
      ]
     },
     "execution_count": 9,
     "metadata": {},
     "output_type": "execute_result"
    },
    {
     "data": {
      "image/png": "[encoded data removed]",
      "text/plain": [
       "<Figure size 2000x700 with 3 Axes>"
      ]
     },
     "metadata": {},
     "output_type": "display_data"
    }
   ],
   "source": [
    "\n",
    "# This is to remove the bars between the graphs so that we can see the visualizations clearly\n",
    "kendell_corr = HR_data[['BHK', 'Rent', 'Size']].corr('kendall')\n",
    "pearson_corr = HR_data[['BHK', 'Rent', 'Size']].corr('pearson')\n",
    "spearman_corr= HR_data[['BHK', 'Rent', 'Size']].corr('spearman')\n",
    "\n",
    "fig, axes = plt.subplots(1, 3, figsize= (20,7))\n",
    "\n",
    "sns.heatmap(data=kendell_corr, ax=axes[0],annot=True, cbar=False)\n",
    "sns.heatmap(data=pearson_corr, ax=axes[1],annot=True, cbar=False)\n",
    "sns.heatmap(data=spearman_corr, ax=axes[2],annot=True, cbar=False)\n",
    "\n",
    "plt.suptitle('Correlation Matrix of Rent, Size and BHK')\n",
    "\n",
    "axes[0].set_title('Kendell_Tau')\n",
    "axes[1].set_title('Pearson Product Moment')\n",
    "axes[2].set_title('Spearman Rank Correlation')"
   ]
  },
  {
   "cell_type": "markdown",
   "metadata": {},
   "source": [
    "Insight\n"
   ]
  },
  {
   "cell_type": "code",
   "execution_count": 10,
   "metadata": {},
   "outputs": [
    {
     "name": "stdout",
     "output_type": "stream",
     "text": [
      "There is no normaity in BHK\n"
     ]
    },
    {
     "data": {
      "text/plain": [
       "np.float64(2.6568928755927767e-55)"
      ]
     },
     "execution_count": 10,
     "metadata": {},
     "output_type": "execute_result"
    }
   ],
   "source": [
    "# Checking for significant diff in BHK... shapiro gives two output thats why we have the stats and pvalue\n",
    "# you can decide to print anyone out of them... you can print either stats or pvalue\n",
    "from scipy.stats import shapiro\n",
    "\n",
    "Ho = 'There is normaity'    #There is no significant difference\n",
    "H1 = 'There is no normaity'  #There is significant difference\n",
    "# performing the shapiro wilk test\n",
    "stats, p_value = shapiro(HR_data['BHK'].values)\n",
    "\n",
    "if p_value < 0.05:\n",
    "    print(f'{H1} in BHK')\n",
    "else:\n",
    "    print(f'{Ho} in BHK')\n",
    "\n",
    "p_value\n",
    "# stats\n"
   ]
  },
  {
   "cell_type": "code",
   "execution_count": 11,
   "metadata": {},
   "outputs": [
    {
     "name": "stdout",
     "output_type": "stream",
     "text": [
      "There is no normaity in Rent\n"
     ]
    },
    {
     "data": {
      "text/plain": [
       "np.float64(1.6265682261755304e-86)"
      ]
     },
     "execution_count": 11,
     "metadata": {},
     "output_type": "execute_result"
    }
   ],
   "source": [
    "# Checking for significant diff in RENT\n",
    "\n",
    "Ho = 'There is normalty'    #There is no significant difference\n",
    "H1 = 'There is no normalty'  #There is significant difference\n",
    "\n",
    "stats, p_value = shapiro(HR_data['Rent'].values)\n",
    "\n",
    "if p_value < 0.05:\n",
    "    print(f'{H1} in Rent')\n",
    "else:\n",
    "    print(f'{Ho} in Rent')\n",
    "\n",
    "p_value"
   ]
  },
  {
   "cell_type": "code",
   "execution_count": 12,
   "metadata": {},
   "outputs": [
    {
     "name": "stdout",
     "output_type": "stream",
     "text": [
      "There is no normaity in Size\n",
      "5.376498206816902e-56\n",
      "0.8436420656247993\n"
     ]
    }
   ],
   "source": [
    "# Checking for significant diff in Size\n",
    "\n",
    "Ho = 'There is normaity'    #There is no significant difference\n",
    "H1 = 'There is no normaity'  #There is significant difference\n",
    "\n",
    "stats, p_value = shapiro(HR_data['Size'].values)\n",
    "\n",
    "if p_value < 0.05:\n",
    "    print(f'{H1} in Size')\n",
    "else:\n",
    "    print(f'{Ho} in Size')\n",
    "\n",
    "print(float(p_value))\n",
    "print(float(stats))"
   ]
  },
  {
   "cell_type": "code",
   "execution_count": 13,
   "metadata": {},
   "outputs": [
    {
     "name": "stdout",
     "output_type": "stream",
     "text": [
      "There is no normaity in Rent\n",
      "1.6265682261755304e-86\n"
     ]
    }
   ],
   "source": [
    "Ho = 'There is normaity'    #There is no significant difference\n",
    "H1 = 'There is no normaity'  #There is significant difference\n",
    "\n",
    "stats, p_value = shapiro(HR_data['Rent'].values)\n",
    "\n",
    "if p_value < 0.05:\n",
    "    print(f'{H1} in Rent')\n",
    "else:\n",
    "    print(f'{Ho} in Rent')\n",
    "\n",
    "print(float(p_value))\n"
   ]
  },
  {
   "cell_type": "code",
   "execution_count": 14,
   "metadata": {},
   "outputs": [
    {
     "name": "stdout",
     "output_type": "stream",
     "text": [
      "There is no normaity in BHK @p-value = 2.6568928755927767e-55\n",
      "There is no normaity in Rent @p-value = 1.6265682261755304e-86\n",
      "There is no normaity in Size @p-value = 5.376498206816902e-56\n"
     ]
    }
   ],
   "source": [
    "# checking the correlation of the 3 samples together\n",
    "Ho = 'There is normaity'    #There is no significant difference\n",
    "H1 = 'There is no normaity'  #There is significant difference\n",
    "\n",
    "col_test = {}\n",
    "\n",
    "col_list = ['BHK','Rent','Size']\n",
    "\n",
    "for col in col_list:\n",
    "    stats, p_value = shapiro(HR_data[col].values)\n",
    "    stats_list = [stats, p_value]\n",
    "    col_test.update({col : stats_list})\n",
    "\n",
    "\n",
    "for i, v in col_test.items():\n",
    "    # print(i , v)\n",
    "\n",
    "    if v[1] < 0.05:\n",
    "        print(f'{H1} in {i} @p-value = {v[1]}')\n",
    "    else:\n",
    "        print(f'{Ho} in {i} @p-value = {v[1]}')\n"
   ]
  },
  {
   "cell_type": "code",
   "execution_count": 15,
   "metadata": {},
   "outputs": [
    {
     "name": "stdout",
     "output_type": "stream",
     "text": [
      "The key BHK\n",
      " The value - [np.float64(0.8495871682498453), np.float64(2.6568928755927767e-55)]\n",
      "\n",
      "The key Rent\n",
      " The value - [np.float64(0.2916555911008233), np.float64(1.6265682261755304e-86)]\n",
      "\n",
      "The key Size\n",
      " The value - [np.float64(0.8436420656247993), np.float64(5.376498206816902e-56)]\n",
      "\n"
     ]
    }
   ],
   "source": [
    "# checking the correlation of the 3 samples together   ... \\n means to start the answer on a new line\n",
    "Ho = 'There is normaity'    #There is no significant difference\n",
    "H1 = 'There is no normaity'  #There is significant difference\n",
    "\n",
    "col_test = {}\n",
    "\n",
    "col_list = ['BHK','Rent','Size']\n",
    "\n",
    "for col in col_list:\n",
    "    stats, p_value = shapiro(HR_data[col].values)\n",
    "    stats_list = [stats, p_value]\n",
    "    col_test.update({col : stats_list})\n",
    "\n",
    "\n",
    "for key, value in col_test.items():\n",
    "    print(f'The key {key}\\n', f'The value - {value}\\n')"
   ]
  },
  {
   "cell_type": "markdown",
   "metadata": {},
   "source": [
    "#### Analyis Day 2"
   ]
  },
  {
   "cell_type": "code",
   "execution_count": 16,
   "metadata": {},
   "outputs": [
    {
     "name": "stdout",
     "output_type": "stream",
     "text": [
      "BHK vs Rent, --- SignificanceResult(statistic=np.float64(0.5689021288413385), pvalue=np.float64(0.0))\n",
      "0.5689021288413385 stat\n",
      "0.0 p_value\n",
      "\n",
      "Size vs Rent, --- SignificanceResult(statistic=np.float64(0.5218875401606804), pvalue=np.float64(0.0))\n",
      "0.5218875401606804 stat\n",
      "0.0 p_value\n",
      "\n",
      "Size vs BHK, --- SignificanceResult(statistic=np.float64(0.7552513805953374), pvalue=np.float64(0.0))\n",
      "0.7552513805953374 stat\n",
      "0.0 p_value\n",
      "\n"
     ]
    }
   ],
   "source": [
    "# Testing the statistical significance of the spearman correlation\n",
    "# 0.00 to 0.05 are statistically significant and its at 3 levels...0,1,5 anything higher than that is not \n",
    "# statistically significant.\n",
    "\n",
    "from scipy.stats import spearmanr\n",
    "\n",
    "Ho = 'There is normaity'    #There is no significant difference\n",
    "H1 = 'There is no normaity'  #There is significant difference\n",
    "\n",
    "bhk_rent = stats, p_value = spearmanr(HR_data['BHK'].values, HR_data['Rent'].values)\n",
    "size_rent = stats, p_value = spearmanr(HR_data['Size'].values, HR_data['Rent'].values)\n",
    "size_bhk = stats, p_value = spearmanr(HR_data['Size'].values, HR_data['BHK'].values)\n",
    "\n",
    "test_pairs = {\n",
    "    'BHK vs Rent':bhk_rent,\n",
    "    'Size vs Rent': size_rent,\n",
    "    'Size vs BHK':size_bhk\n",
    "}\n",
    "\n",
    "for k, v in test_pairs.items(): #when printing in a dictionary, k = key and v= value\n",
    "    print(f'{k}, --- {v}') #stating a format for howit will print it out\n",
    "    print(v[0], 'stat')\n",
    "    print(v[1], 'p_value')\n",
    "    print('') #this means to print an empty space before priniting the next item in the dictionary\n",
    "\n",
    "    # print(f'{v}')"
   ]
  },
  {
   "cell_type": "code",
   "execution_count": 17,
   "metadata": {},
   "outputs": [
    {
     "name": "stdout",
     "output_type": "stream",
     "text": [
      "There is no normalty in BHK vs Rent @ p_value = 0.0 with coeff = 0.5689021288413385\n",
      "There is no normalty in Size vs Rent @ p_value = 0.0 with coeff = 0.5218875401606804\n",
      "There is no normalty in Size vs BHK @ p_value = 0.0 with coeff = 0.7552513805953374\n"
     ]
    }
   ],
   "source": [
    "from scipy.stats import spearmanr\n",
    "\n",
    "Ho = 'There is normalty'    #There is no significant difference\n",
    "H1 = 'There is no normalty'  #There is significant difference\n",
    "\n",
    "bhk_rent = stats, p_value = spearmanr(HR_data['BHK'].values, HR_data['Rent'].values)\n",
    "size_rent = stats, p_value = spearmanr(HR_data['Size'].values, HR_data['Rent'].values)\n",
    "size_bhk = stats, p_value = spearmanr(HR_data['Size'].values, HR_data['BHK'].values)\n",
    "\n",
    "test_pairs = {\n",
    "    'BHK vs Rent':bhk_rent,\n",
    "    'Size vs Rent': size_rent,\n",
    "    'Size vs BHK':size_bhk\n",
    "}\n",
    "\n",
    "for k, v in test_pairs.items(): #when printing in a dictionary, k = key and v= value\n",
    "    # print(f'{k}, --- {v}') #stating a format for howit will print it out\n",
    "    # print(v[0], 'stat')\n",
    "    # print(v[1], 'p_value')\n",
    "    # print('') #this means to print an empty space before priniting the next item in the dictionary\n",
    "    if v[1] < 0.05:\n",
    "        print(f'{H1} in {k} @ p_value = {v[1]} with coeff = {v[0]}')\n",
    "    else:\n",
    "        print(f'{Ho} in {k} @ p_value = {v[1]} with coeff = {v[0]}')\n",
    "\n",
    "\n",
    "    # print(f'{v}')\n",
    "\n",
    "# the coefficient in the result is the level of correlation between the two values "
   ]
  },
  {
   "cell_type": "markdown",
   "metadata": {},
   "source": [
    "#### ANALYSIS OF VARIANCE (ANOVA)"
   ]
  },
  {
   "cell_type": "code",
   "execution_count": 19,
   "metadata": {},
   "outputs": [
    {
     "data": {
      "text/plain": [
       "array(['Kolkata', 'Mumbai', 'Bangalore', 'Delhi', 'Chennai', 'Hyderabad'],\n",
       "      dtype=object)"
      ]
     },
     "execution_count": 19,
     "metadata": {},
     "output_type": "execute_result"
    }
   ],
   "source": [
    "# to print out the elements in a list\n",
    "\n",
    "HR_data['City'].unique()\n",
    "\n"
   ]
  },
  {
   "cell_type": "code",
   "execution_count": 21,
   "metadata": {},
   "outputs": [
    {
     "name": "stdout",
     "output_type": "stream",
     "text": [
      "There is no normalty between sizes in each city @ p_value = 3.657459890419429e-45\n"
     ]
    }
   ],
   "source": [
    "from scipy.stats import f_oneway\n",
    "\n",
    "Ho = 'There is normalty'    #There is no significant difference\n",
    "H1 = 'There is no normalty'  #There is significant difference\n",
    "\n",
    "stats, p_value = f_oneway(\n",
    "    HR_data[HR_data['City'] == 'Kolkata']['Size'].values,\n",
    "    HR_data[HR_data['City'] == 'Mumbai']['Size'].values,\n",
    "    HR_data[HR_data['City'] == 'Bangalore']['Size'].values,\n",
    "    HR_data[HR_data['City'] == 'Delhi']['Size'].values,\n",
    "    HR_data[HR_data['City'] == 'Chennai']['Size'].values,\n",
    "    HR_data[HR_data['City'] == 'Hyderabad']['Size'].values,\n",
    ")\n",
    "\n",
    "# print(f'stats - {stats} \\np_value - {p_value}')\n",
    "\n",
    "if p_value< 0.05:\n",
    "    print(f'{H1} between sizes in each city @ p_value = {p_value}')\n",
    "else:\n",
    "    print(f'{Ho} between sizes in each city @ p_value = {p_value}')\n",
    "\n",
    "# this is the analysis to check if the sizes in each city are similar to eachother"
   ]
  },
  {
   "cell_type": "code",
   "execution_count": 23,
   "metadata": {},
   "outputs": [
    {
     "name": "stdout",
     "output_type": "stream",
     "text": [
      "There is no normalty between the rent between the cities @ p_value = 1.7334420745338585e-117\n"
     ]
    }
   ],
   "source": [
    "from scipy.stats import f_oneway\n",
    "\n",
    "Ho = 'There is normalty'    #There is no significant difference\n",
    "H1 = 'There is no normalty'  #There is significant difference\n",
    "\n",
    "stats, p_value = f_oneway(\n",
    "    HR_data[HR_data['City'] == 'Kolkata']['Rent'].values,\n",
    "    HR_data[HR_data['City'] == 'Mumbai']['Rent'].values,\n",
    "    HR_data[HR_data['City'] == 'Bangalore']['Rent'].values,\n",
    "    HR_data[HR_data['City'] == 'Delhi']['Rent'].values,\n",
    "    HR_data[HR_data['City'] == 'Chennai']['Rent'].values,\n",
    "    HR_data[HR_data['City'] == 'Hyderabad']['Rent'].values,\n",
    ")\n",
    "\n",
    "# print(f'stats - {stats} \\np_value - {p_value}')\n",
    "\n",
    "if p_value< 0.05:\n",
    "    print(f'{H1} between the rent between the cities @ p_value = {p_value}')\n",
    "else:\n",
    "    print(f'{Ho} between rent between the cities @ p_value = {p_value}')"
   ]
  }
 ],
 "metadata": {
  "kernelspec": {
   "display_name": "Python 3",
   "language": "python",
   "name": "python3"
  },
  "language_info": {
   "codemirror_mode": {
    "name": "ipython",
    "version": 3
   },
   "file_extension": ".py",
   "mimetype": "text/x-python",
   "name": "python",
   "nbconvert_exporter": "python",
   "pygments_lexer": "ipython3",
   "version": "3.12.3"
  }
 },
 "nbformat": 4,
 "nbformat_minor": 2
}
