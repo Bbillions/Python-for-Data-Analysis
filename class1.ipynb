{
 "cells": [
  {
   "cell_type": "markdown",
   "metadata": {},
   "source": [
    "# Python for Data Analysis\n",
    "## Course Content\n",
    "\n",
    "\n",
    "* recap of the basics\n",
    "* data wrangling with pandas and numpy\n",
    "* data visualization with seaborn, ployly and matplotlib\n",
    "* statistical analysis with Scipy, Statsmodel\n",
    "* Data Modelling with Sklearn\n",
    "* Project\n"
   ]
  },
  {
   "cell_type": "markdown",
   "metadata": {},
   "source": [
    "## Recap of the basics\n",
    "\n",
    "* While Loop\n",
    "* Comprehensive List\n",
    "* Lambda Function"
   ]
  },
  {
   "cell_type": "code",
   "execution_count": 1,
   "metadata": {},
   "outputs": [
    {
     "name": "stdout",
     "output_type": "stream",
     "text": [
      "1\n",
      "2\n",
      "3\n",
      "4\n"
     ]
    }
   ],
   "source": [
    "anylist = [1,2,3,4]\n",
    "\n",
    "# for loop [execute,loop,condition]\n",
    "\n",
    "for eachnumber in anylist:\n",
    "    print(eachnumber)\n",
    "\n"
   ]
  },
  {
   "cell_type": "code",
   "execution_count": 2,
   "metadata": {},
   "outputs": [
    {
     "name": "stdout",
     "output_type": "stream",
     "text": [
      "10\n",
      "11\n",
      "12\n",
      "13\n",
      "14\n",
      "15\n",
      "16\n",
      "17\n",
      "18\n",
      "19\n"
     ]
    }
   ],
   "source": [
    "num = 10\n",
    "\n",
    "while num < 20:\n",
    "    print(num)\n",
    "    num = num + 1"
   ]
  },
  {
   "cell_type": "code",
   "execution_count": 4,
   "metadata": {},
   "outputs": [
    {
     "name": "stdout",
     "output_type": "stream",
     "text": [
      "[2, 4, 6, 8, 10, 12, 14, 16, 18, 20, 22, 24, 26, 28, 30, 32, 34, 36, 38, 40]\n",
      "[1, 3, 5, 7, 9, 11, 13, 15, 17, 19, 21, 23, 25, 27, 29, 31, 33, 35, 37, 39]\n"
     ]
    }
   ],
   "source": [
    "# write a program that returns a list of even and odd numbers from 1 to 20\n",
    "\n",
    "evennumber = []\n",
    "oddnumber = []\n",
    "for number in range(1,41):\n",
    "    if number %2 == 0:\n",
    "        evennumber.append(number)\n",
    "    else:\n",
    "        oddnumber.append(number)\n",
    "\n",
    "print(evennumber)\n",
    "print(oddnumber)\n",
    "\n",
    "\n",
    "\n"
   ]
  },
  {
   "cell_type": "code",
   "execution_count": 5,
   "metadata": {},
   "outputs": [
    {
     "name": "stdout",
     "output_type": "stream",
     "text": [
      "[7, 14, 21, 28]\n"
     ]
    }
   ],
   "source": [
    "# write a program that returns all the numbers that are divisible by 7 between 1 to 30\n",
    "\n",
    "div7 = []\n",
    "for num in range(1,31):\n",
    "    if num %7 == 0:\n",
    "        div7.append(num)\n",
    "\n",
    "\n",
    "print(div7)\n"
   ]
  },
  {
   "cell_type": "code",
   "execution_count": 6,
   "metadata": {},
   "outputs": [
    {
     "data": {
      "text/plain": [
       "[7, 14, 21, 28]"
      ]
     },
     "execution_count": 6,
     "metadata": {},
     "output_type": "execute_result"
    }
   ],
   "source": [
    "# OR\n",
    "numb2 = [eachnumber for eachnumber in range(1,30) if eachnumber %7 == 0]\n",
    "numb2"
   ]
  },
  {
   "cell_type": "code",
   "execution_count": 7,
   "metadata": {},
   "outputs": [
    {
     "name": "stdout",
     "output_type": "stream",
     "text": [
      "8\n"
     ]
    }
   ],
   "source": [
    "# Lambda Function\n",
    "\n",
    "add_numbers = lambda x, y: x + y\n",
    "\n",
    "print(add_numbers(5,3))\n"
   ]
  },
  {
   "cell_type": "code",
   "execution_count": null,
   "metadata": {},
   "outputs": [],
   "source": []
  }
 ],
 "metadata": {
  "kernelspec": {
   "display_name": "Python 3",
   "language": "python",
   "name": "python3"
  },
  "language_info": {
   "codemirror_mode": {
    "name": "ipython",
    "version": 3
   },
   "file_extension": ".py",
   "mimetype": "text/x-python",
   "name": "python",
   "nbconvert_exporter": "python",
   "pygments_lexer": "ipython3",
   "version": "3.12.3"
  }
 },
 "nbformat": 4,
 "nbformat_minor": 2
}
